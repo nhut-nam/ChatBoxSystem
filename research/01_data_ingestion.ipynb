{
 "cells": [
  {
   "cell_type": "code",
   "execution_count": 1,
   "id": "82acd340",
   "metadata": {},
   "outputs": [],
   "source": [
    "import os"
   ]
  },
  {
   "cell_type": "code",
   "execution_count": 2,
   "id": "f42dd9da",
   "metadata": {},
   "outputs": [],
   "source": [
    "os.chdir('../')\n"
   ]
  },
  {
   "cell_type": "code",
   "execution_count": 3,
   "id": "8b51eccd",
   "metadata": {},
   "outputs": [
    {
     "data": {
      "text/plain": [
       "'f:\\\\ProjectAI\\\\ChatSystem'"
      ]
     },
     "execution_count": 3,
     "metadata": {},
     "output_type": "execute_result"
    }
   ],
   "source": [
    "%pwd"
   ]
  },
  {
   "cell_type": "code",
   "execution_count": 4,
   "id": "285fa9e1",
   "metadata": {},
   "outputs": [
    {
     "data": {
      "text/plain": [
       "True"
      ]
     },
     "execution_count": 4,
     "metadata": {},
     "output_type": "execute_result"
    }
   ],
   "source": [
    "from dotenv import load_dotenv\n",
    "load_dotenv()"
   ]
  },
  {
   "cell_type": "code",
   "execution_count": 5,
   "id": "6487f45c",
   "metadata": {},
   "outputs": [],
   "source": [
    "api_key = os.getenv(\"GEMINI_API_KEY\")"
   ]
  },
  {
   "cell_type": "code",
   "execution_count": 6,
   "id": "04302653",
   "metadata": {},
   "outputs": [],
   "source": [
    "from dataclasses import dataclass\n",
    "from pathlib import Path\n",
    "\n",
    "@dataclass\n",
    "class DataIngestionConfig:\n",
    "    root_dir: Path\n",
    "    source_URL: str \n",
    "    local_data_file: Path\n",
    "    augmentation: bool"
   ]
  },
  {
   "cell_type": "code",
   "execution_count": 7,
   "id": "1e9cdbde",
   "metadata": {},
   "outputs": [],
   "source": [
    "from ChatBoxSystem.constants import *\n",
    "from ChatBoxSystem.utils.helper import read_yaml, create_directories"
   ]
  },
  {
   "cell_type": "code",
   "execution_count": 8,
   "id": "b43e37b0",
   "metadata": {},
   "outputs": [],
   "source": [
    "class ConfigurationManager:\n",
    "    def __init__(\n",
    "        self,\n",
    "        config_filepath=CONFIG_FILE_PATH,\n",
    "        params_filepath=PARAMS_FILE_PATH,\n",
    "    ):\n",
    "        self.config = read_yaml(config_filepath)\n",
    "        self.params = read_yaml(params_filepath)\n",
    "        create_directories([self.config.artifacts_root])\n",
    "\n",
    "    def get_data_ingestion_config(self) -> DataIngestionConfig:\n",
    "        config = self.config.data_ingestion\n",
    "\n",
    "        create_directories([config.root_dir])\n",
    "        data_ingestion_config = DataIngestionConfig(\n",
    "            root_dir=config.root_dir,\n",
    "            source_URL=config.source_URL,\n",
    "            local_data_file=config.local_data_file,\n",
    "            augmentation=self.params.data_ingestion.augmentation\n",
    "        )\n",
    "\n",
    "        return data_ingestion_config"
   ]
  },
  {
   "cell_type": "code",
   "execution_count": 9,
   "id": "45787a8f",
   "metadata": {},
   "outputs": [],
   "source": [
    "import os\n",
    "import gdown\n",
    "from ChatBoxSystem import logger\n",
    "import pandas as pd\n",
    "from google import genai\n",
    "from google.genai import types"
   ]
  },
  {
   "cell_type": "code",
   "execution_count": 18,
   "id": "2bafe3bd",
   "metadata": {},
   "outputs": [],
   "source": [
    "class DataIngestion:\n",
    "    def __init__(self, config: DataIngestionConfig):\n",
    "        self.config = config\n",
    "\n",
    "    def download_file(self):\n",
    "        try:\n",
    "            dataset_url = self.config.source_URL\n",
    "            zip_download_dir = self.config.local_data_file\n",
    "            os.makedirs(\"artifacts/data_ingestion\", exist_ok=True)\n",
    "\n",
    "            file_id = dataset_url.split(\"/\")[-2]\n",
    "            prefix = \"https://drive.google.com/uc?/export=download&id=\"\n",
    "            gdown.download(prefix + file_id, zip_download_dir)\n",
    "\n",
    "            logger.info(f\"Downloaded file from :[{dataset_url}] and saved at :[{zip_download_dir}]\")\n",
    "        except Exception as e:\n",
    "            raise e\n",
    "\n",
    "\n",
    "    def data_augmentation(self):\n",
    "        if self.config.augmentation:\n",
    "            df = pd.read_csv(self.config.local_data_file)\n",
    "            augmented_records = []\n",
    "            for _, row in df.iterrows():\n",
    "                paraphrases = self.paraphrase_text(row['Answer'])\n",
    "                for p in paraphrases:  # nếu paraphrases là list\n",
    "                    augmented_records.append({\n",
    "                        \"Question\": row['Question'],\n",
    "                        \"Answer\": p\n",
    "                    })\n",
    "            df_augmented = pd.DataFrame(augmented_records)\n",
    "            df_augmented.to_csv(self.config.local_data_file, index=False)\n",
    "            logger.info(f\"Data augmentation completed and saved to {self.config.local_data_file}\")\n",
    "        else:\n",
    "            logger.info(\"Data augmentation is disabled.\")\n",
    "\n",
    "\n",
    "    def paraphrase_text(self, text: str) -> list:\n",
    "        prompt = f\"Paraphrase the following text into 5 different ways:\\n{text}\"\n",
    "        client = genai.Client(api_key=api_key)\n",
    "\n",
    "        response = client.models.generate_content(\n",
    "            model=\"gemini-2.5-flash\",  # hoặc gemini-2 nếu bạn có quyền\n",
    "            contents=prompt\n",
    "        )\n",
    "\n",
    "        # response.output_text chứa kết quả text\n",
    "        paraphrases = [line.strip() for line in response.text.split(\"\\n\") if line.strip()]\n",
    "        return paraphrases"
   ]
  },
  {
   "cell_type": "code",
   "execution_count": 19,
   "id": "ac8a0e92",
   "metadata": {},
   "outputs": [
    {
     "name": "stdout",
     "output_type": "stream",
     "text": [
      "[2025-10-01 17:55:33,408: INFO: helper]: YAML file config\\config.yaml loaded successfully.\n",
      "[2025-10-01 17:55:33,409: INFO: helper]: YAML file params.yaml loaded successfully.\n",
      "[2025-10-01 17:55:33,410: INFO: helper]: Directory created at: artifacts\n",
      "[2025-10-01 17:55:33,411: INFO: helper]: Directory created at: artifacts/data_ingestion\n"
     ]
    },
    {
     "name": "stderr",
     "output_type": "stream",
     "text": [
      "Downloading...\n",
      "From: https://drive.google.com/uc?/export=download&id=1AixdvjgwB0np9dIrxVJrmlzWI6AaDhwq\n",
      "To: f:\\ProjectAI\\ChatSystem\\artifacts\\data_ingestion\\data.csv\n",
      "100%|██████████| 2.94k/2.94k [00:00<?, ?B/s]"
     ]
    },
    {
     "name": "stdout",
     "output_type": "stream",
     "text": [
      "[2025-10-01 17:55:35,613: INFO: 1440940172]: Downloaded file from :[https://drive.google.com/file/d/1AixdvjgwB0np9dIrxVJrmlzWI6AaDhwq/view?usp=sharing] and saved at :[artifacts/data_ingestion/data.csv]\n",
      "[2025-10-01 17:55:35,645: INFO: models]: AFC is enabled with max remote calls: 10.\n"
     ]
    },
    {
     "name": "stderr",
     "output_type": "stream",
     "text": [
      "\n"
     ]
    },
    {
     "name": "stdout",
     "output_type": "stream",
     "text": [
      "[2025-10-01 17:55:45,600: INFO: _client]: HTTP Request: POST https://generativelanguage.googleapis.com/v1beta/models/gemini-2.5-flash:generateContent \"HTTP/1.1 200 OK\"\n",
      "[2025-10-01 17:55:45,621: INFO: models]: AFC is enabled with max remote calls: 10.\n",
      "[2025-10-01 17:55:54,584: INFO: _client]: HTTP Request: POST https://generativelanguage.googleapis.com/v1beta/models/gemini-2.5-flash:generateContent \"HTTP/1.1 200 OK\"\n",
      "[2025-10-01 17:55:54,608: INFO: models]: AFC is enabled with max remote calls: 10.\n",
      "[2025-10-01 17:56:02,135: INFO: _client]: HTTP Request: POST https://generativelanguage.googleapis.com/v1beta/models/gemini-2.5-flash:generateContent \"HTTP/1.1 200 OK\"\n",
      "[2025-10-01 17:56:02,160: INFO: models]: AFC is enabled with max remote calls: 10.\n",
      "[2025-10-01 17:56:08,754: INFO: _client]: HTTP Request: POST https://generativelanguage.googleapis.com/v1beta/models/gemini-2.5-flash:generateContent \"HTTP/1.1 200 OK\"\n",
      "[2025-10-01 17:56:08,776: INFO: models]: AFC is enabled with max remote calls: 10.\n",
      "[2025-10-01 17:56:17,688: INFO: _client]: HTTP Request: POST https://generativelanguage.googleapis.com/v1beta/models/gemini-2.5-flash:generateContent \"HTTP/1.1 200 OK\"\n",
      "[2025-10-01 17:56:17,716: INFO: models]: AFC is enabled with max remote calls: 10.\n",
      "[2025-10-01 17:56:25,776: INFO: _client]: HTTP Request: POST https://generativelanguage.googleapis.com/v1beta/models/gemini-2.5-flash:generateContent \"HTTP/1.1 200 OK\"\n",
      "[2025-10-01 17:56:25,798: INFO: models]: AFC is enabled with max remote calls: 10.\n",
      "[2025-10-01 17:56:35,267: INFO: _client]: HTTP Request: POST https://generativelanguage.googleapis.com/v1beta/models/gemini-2.5-flash:generateContent \"HTTP/1.1 200 OK\"\n",
      "[2025-10-01 17:56:35,291: INFO: models]: AFC is enabled with max remote calls: 10.\n",
      "[2025-10-01 17:56:43,472: INFO: _client]: HTTP Request: POST https://generativelanguage.googleapis.com/v1beta/models/gemini-2.5-flash:generateContent \"HTTP/1.1 200 OK\"\n",
      "[2025-10-01 17:56:43,494: INFO: models]: AFC is enabled with max remote calls: 10.\n",
      "[2025-10-01 17:56:52,578: INFO: _client]: HTTP Request: POST https://generativelanguage.googleapis.com/v1beta/models/gemini-2.5-flash:generateContent \"HTTP/1.1 200 OK\"\n",
      "[2025-10-01 17:56:52,598: INFO: models]: AFC is enabled with max remote calls: 10.\n",
      "[2025-10-01 17:57:02,288: INFO: _client]: HTTP Request: POST https://generativelanguage.googleapis.com/v1beta/models/gemini-2.5-flash:generateContent \"HTTP/1.1 200 OK\"\n",
      "[2025-10-01 17:57:02,310: INFO: models]: AFC is enabled with max remote calls: 10.\n",
      "[2025-10-01 17:57:11,196: INFO: _client]: HTTP Request: POST https://generativelanguage.googleapis.com/v1beta/models/gemini-2.5-flash:generateContent \"HTTP/1.1 200 OK\"\n",
      "[2025-10-01 17:57:11,217: INFO: models]: AFC is enabled with max remote calls: 10.\n",
      "[2025-10-01 17:57:18,035: INFO: _client]: HTTP Request: POST https://generativelanguage.googleapis.com/v1beta/models/gemini-2.5-flash:generateContent \"HTTP/1.1 200 OK\"\n",
      "[2025-10-01 17:57:18,060: INFO: models]: AFC is enabled with max remote calls: 10.\n",
      "[2025-10-01 17:57:26,488: INFO: _client]: HTTP Request: POST https://generativelanguage.googleapis.com/v1beta/models/gemini-2.5-flash:generateContent \"HTTP/1.1 200 OK\"\n",
      "[2025-10-01 17:57:26,509: INFO: models]: AFC is enabled with max remote calls: 10.\n",
      "[2025-10-01 17:57:33,557: INFO: _client]: HTTP Request: POST https://generativelanguage.googleapis.com/v1beta/models/gemini-2.5-flash:generateContent \"HTTP/1.1 200 OK\"\n",
      "[2025-10-01 17:57:33,578: INFO: models]: AFC is enabled with max remote calls: 10.\n",
      "[2025-10-01 17:57:41,151: INFO: _client]: HTTP Request: POST https://generativelanguage.googleapis.com/v1beta/models/gemini-2.5-flash:generateContent \"HTTP/1.1 200 OK\"\n",
      "[2025-10-01 17:57:41,170: INFO: models]: AFC is enabled with max remote calls: 10.\n",
      "[2025-10-01 17:57:49,131: INFO: _client]: HTTP Request: POST https://generativelanguage.googleapis.com/v1beta/models/gemini-2.5-flash:generateContent \"HTTP/1.1 200 OK\"\n",
      "[2025-10-01 17:57:49,152: INFO: models]: AFC is enabled with max remote calls: 10.\n",
      "[2025-10-01 17:57:55,642: INFO: _client]: HTTP Request: POST https://generativelanguage.googleapis.com/v1beta/models/gemini-2.5-flash:generateContent \"HTTP/1.1 200 OK\"\n",
      "[2025-10-01 17:57:55,662: INFO: models]: AFC is enabled with max remote calls: 10.\n",
      "[2025-10-01 17:58:05,035: INFO: _client]: HTTP Request: POST https://generativelanguage.googleapis.com/v1beta/models/gemini-2.5-flash:generateContent \"HTTP/1.1 200 OK\"\n",
      "[2025-10-01 17:58:05,062: INFO: models]: AFC is enabled with max remote calls: 10.\n",
      "[2025-10-01 17:58:17,189: INFO: _client]: HTTP Request: POST https://generativelanguage.googleapis.com/v1beta/models/gemini-2.5-flash:generateContent \"HTTP/1.1 200 OK\"\n",
      "[2025-10-01 17:58:17,217: INFO: models]: AFC is enabled with max remote calls: 10.\n",
      "[2025-10-01 17:58:28,029: INFO: _client]: HTTP Request: POST https://generativelanguage.googleapis.com/v1beta/models/gemini-2.5-flash:generateContent \"HTTP/1.1 200 OK\"\n",
      "[2025-10-01 17:58:28,059: INFO: models]: AFC is enabled with max remote calls: 10.\n",
      "[2025-10-01 17:58:37,018: INFO: _client]: HTTP Request: POST https://generativelanguage.googleapis.com/v1beta/models/gemini-2.5-flash:generateContent \"HTTP/1.1 200 OK\"\n",
      "[2025-10-01 17:58:37,044: INFO: models]: AFC is enabled with max remote calls: 10.\n",
      "[2025-10-01 17:58:44,722: INFO: _client]: HTTP Request: POST https://generativelanguage.googleapis.com/v1beta/models/gemini-2.5-flash:generateContent \"HTTP/1.1 200 OK\"\n",
      "[2025-10-01 17:58:44,749: INFO: models]: AFC is enabled with max remote calls: 10.\n",
      "[2025-10-01 17:58:54,046: INFO: _client]: HTTP Request: POST https://generativelanguage.googleapis.com/v1beta/models/gemini-2.5-flash:generateContent \"HTTP/1.1 200 OK\"\n",
      "[2025-10-01 17:58:54,071: INFO: models]: AFC is enabled with max remote calls: 10.\n",
      "[2025-10-01 17:59:01,448: INFO: _client]: HTTP Request: POST https://generativelanguage.googleapis.com/v1beta/models/gemini-2.5-flash:generateContent \"HTTP/1.1 200 OK\"\n",
      "[2025-10-01 17:59:01,471: INFO: models]: AFC is enabled with max remote calls: 10.\n",
      "[2025-10-01 17:59:09,594: INFO: _client]: HTTP Request: POST https://generativelanguage.googleapis.com/v1beta/models/gemini-2.5-flash:generateContent \"HTTP/1.1 200 OK\"\n",
      "[2025-10-01 17:59:09,626: INFO: models]: AFC is enabled with max remote calls: 10.\n",
      "[2025-10-01 17:59:16,878: INFO: _client]: HTTP Request: POST https://generativelanguage.googleapis.com/v1beta/models/gemini-2.5-flash:generateContent \"HTTP/1.1 200 OK\"\n",
      "[2025-10-01 17:59:16,900: INFO: models]: AFC is enabled with max remote calls: 10.\n",
      "[2025-10-01 17:59:26,936: INFO: _client]: HTTP Request: POST https://generativelanguage.googleapis.com/v1beta/models/gemini-2.5-flash:generateContent \"HTTP/1.1 200 OK\"\n",
      "[2025-10-01 17:59:26,962: INFO: models]: AFC is enabled with max remote calls: 10.\n",
      "[2025-10-01 17:59:34,338: INFO: _client]: HTTP Request: POST https://generativelanguage.googleapis.com/v1beta/models/gemini-2.5-flash:generateContent \"HTTP/1.1 200 OK\"\n",
      "[2025-10-01 17:59:34,363: INFO: models]: AFC is enabled with max remote calls: 10.\n",
      "[2025-10-01 17:59:44,377: INFO: _client]: HTTP Request: POST https://generativelanguage.googleapis.com/v1beta/models/gemini-2.5-flash:generateContent \"HTTP/1.1 200 OK\"\n",
      "[2025-10-01 17:59:44,398: INFO: models]: AFC is enabled with max remote calls: 10.\n",
      "[2025-10-01 17:59:54,016: INFO: _client]: HTTP Request: POST https://generativelanguage.googleapis.com/v1beta/models/gemini-2.5-flash:generateContent \"HTTP/1.1 200 OK\"\n",
      "[2025-10-01 17:59:54,054: INFO: models]: AFC is enabled with max remote calls: 10.\n",
      "[2025-10-01 18:00:02,475: INFO: _client]: HTTP Request: POST https://generativelanguage.googleapis.com/v1beta/models/gemini-2.5-flash:generateContent \"HTTP/1.1 200 OK\"\n",
      "[2025-10-01 18:00:02,501: INFO: models]: AFC is enabled with max remote calls: 10.\n",
      "[2025-10-01 18:00:10,565: INFO: _client]: HTTP Request: POST https://generativelanguage.googleapis.com/v1beta/models/gemini-2.5-flash:generateContent \"HTTP/1.1 200 OK\"\n",
      "[2025-10-01 18:00:10,596: INFO: models]: AFC is enabled with max remote calls: 10.\n",
      "[2025-10-01 18:00:18,770: INFO: _client]: HTTP Request: POST https://generativelanguage.googleapis.com/v1beta/models/gemini-2.5-flash:generateContent \"HTTP/1.1 200 OK\"\n",
      "[2025-10-01 18:00:18,793: INFO: models]: AFC is enabled with max remote calls: 10.\n",
      "[2025-10-01 18:00:27,137: INFO: _client]: HTTP Request: POST https://generativelanguage.googleapis.com/v1beta/models/gemini-2.5-flash:generateContent \"HTTP/1.1 200 OK\"\n",
      "[2025-10-01 18:00:27,162: INFO: models]: AFC is enabled with max remote calls: 10.\n",
      "[2025-10-01 18:00:35,104: INFO: _client]: HTTP Request: POST https://generativelanguage.googleapis.com/v1beta/models/gemini-2.5-flash:generateContent \"HTTP/1.1 200 OK\"\n",
      "[2025-10-01 18:00:35,128: INFO: models]: AFC is enabled with max remote calls: 10.\n",
      "[2025-10-01 18:00:45,978: INFO: _client]: HTTP Request: POST https://generativelanguage.googleapis.com/v1beta/models/gemini-2.5-flash:generateContent \"HTTP/1.1 200 OK\"\n",
      "[2025-10-01 18:00:46,002: INFO: models]: AFC is enabled with max remote calls: 10.\n",
      "[2025-10-01 18:00:54,867: INFO: _client]: HTTP Request: POST https://generativelanguage.googleapis.com/v1beta/models/gemini-2.5-flash:generateContent \"HTTP/1.1 200 OK\"\n",
      "[2025-10-01 18:00:54,889: INFO: models]: AFC is enabled with max remote calls: 10.\n",
      "[2025-10-01 18:01:14,234: INFO: _client]: HTTP Request: POST https://generativelanguage.googleapis.com/v1beta/models/gemini-2.5-flash:generateContent \"HTTP/1.1 200 OK\"\n",
      "[2025-10-01 18:01:14,259: INFO: models]: AFC is enabled with max remote calls: 10.\n",
      "[2025-10-01 18:01:24,307: INFO: _client]: HTTP Request: POST https://generativelanguage.googleapis.com/v1beta/models/gemini-2.5-flash:generateContent \"HTTP/1.1 200 OK\"\n",
      "[2025-10-01 18:01:24,330: INFO: models]: AFC is enabled with max remote calls: 10.\n",
      "[2025-10-01 18:01:30,981: INFO: _client]: HTTP Request: POST https://generativelanguage.googleapis.com/v1beta/models/gemini-2.5-flash:generateContent \"HTTP/1.1 200 OK\"\n",
      "[2025-10-01 18:01:31,004: INFO: models]: AFC is enabled with max remote calls: 10.\n",
      "[2025-10-01 18:01:39,116: INFO: _client]: HTTP Request: POST https://generativelanguage.googleapis.com/v1beta/models/gemini-2.5-flash:generateContent \"HTTP/1.1 200 OK\"\n",
      "[2025-10-01 18:01:39,137: INFO: models]: AFC is enabled with max remote calls: 10.\n",
      "[2025-10-01 18:01:48,902: INFO: _client]: HTTP Request: POST https://generativelanguage.googleapis.com/v1beta/models/gemini-2.5-flash:generateContent \"HTTP/1.1 200 OK\"\n",
      "[2025-10-01 18:01:48,925: INFO: models]: AFC is enabled with max remote calls: 10.\n",
      "[2025-10-01 18:01:58,002: INFO: _client]: HTTP Request: POST https://generativelanguage.googleapis.com/v1beta/models/gemini-2.5-flash:generateContent \"HTTP/1.1 200 OK\"\n",
      "[2025-10-01 18:01:58,022: INFO: models]: AFC is enabled with max remote calls: 10.\n",
      "[2025-10-01 18:02:04,767: INFO: _client]: HTTP Request: POST https://generativelanguage.googleapis.com/v1beta/models/gemini-2.5-flash:generateContent \"HTTP/1.1 200 OK\"\n",
      "[2025-10-01 18:02:04,788: INFO: models]: AFC is enabled with max remote calls: 10.\n",
      "[2025-10-01 18:02:13,158: INFO: _client]: HTTP Request: POST https://generativelanguage.googleapis.com/v1beta/models/gemini-2.5-flash:generateContent \"HTTP/1.1 200 OK\"\n",
      "[2025-10-01 18:02:13,180: INFO: models]: AFC is enabled with max remote calls: 10.\n",
      "[2025-10-01 18:02:21,171: INFO: _client]: HTTP Request: POST https://generativelanguage.googleapis.com/v1beta/models/gemini-2.5-flash:generateContent \"HTTP/1.1 200 OK\"\n",
      "[2025-10-01 18:02:21,192: INFO: models]: AFC is enabled with max remote calls: 10.\n",
      "[2025-10-01 18:02:30,460: INFO: _client]: HTTP Request: POST https://generativelanguage.googleapis.com/v1beta/models/gemini-2.5-flash:generateContent \"HTTP/1.1 200 OK\"\n",
      "[2025-10-01 18:02:30,488: INFO: models]: AFC is enabled with max remote calls: 10.\n",
      "[2025-10-01 18:02:37,773: INFO: _client]: HTTP Request: POST https://generativelanguage.googleapis.com/v1beta/models/gemini-2.5-flash:generateContent \"HTTP/1.1 200 OK\"\n",
      "[2025-10-01 18:02:37,799: INFO: models]: AFC is enabled with max remote calls: 10.\n",
      "[2025-10-01 18:02:46,922: INFO: _client]: HTTP Request: POST https://generativelanguage.googleapis.com/v1beta/models/gemini-2.5-flash:generateContent \"HTTP/1.1 200 OK\"\n",
      "[2025-10-01 18:02:46,946: INFO: models]: AFC is enabled with max remote calls: 10.\n",
      "[2025-10-01 18:02:56,211: INFO: _client]: HTTP Request: POST https://generativelanguage.googleapis.com/v1beta/models/gemini-2.5-flash:generateContent \"HTTP/1.1 200 OK\"\n",
      "[2025-10-01 18:02:56,218: INFO: 1440940172]: Data augmentation completed and saved to artifacts/data_ingestion/data.csv\n",
      "[2025-10-01 18:02:56,218: INFO: 2326871357]: Data ingestion completed successfully.\n"
     ]
    }
   ],
   "source": [
    "try:\n",
    "    config = ConfigurationManager()\n",
    "    data_ingestion_config = config.get_data_ingestion_config()\n",
    "\n",
    "    data_ingestion = DataIngestion(config=data_ingestion_config)\n",
    "    data_ingestion.download_file()\n",
    "    data_ingestion.data_augmentation()\n",
    "    logger.info(\"Data ingestion completed successfully.\")\n",
    "except Exception as e:\n",
    "    logger.exception(e)\n",
    "    raise e"
   ]
  },
  {
   "cell_type": "code",
   "execution_count": null,
   "id": "531f5bd2",
   "metadata": {},
   "outputs": [],
   "source": []
  }
 ],
 "metadata": {
  "kernelspec": {
   "display_name": "ChatBoxAI",
   "language": "python",
   "name": "python3"
  },
  "language_info": {
   "codemirror_mode": {
    "name": "ipython",
    "version": 3
   },
   "file_extension": ".py",
   "mimetype": "text/x-python",
   "name": "python",
   "nbconvert_exporter": "python",
   "pygments_lexer": "ipython3",
   "version": "3.10.18"
  }
 },
 "nbformat": 4,
 "nbformat_minor": 5
}
