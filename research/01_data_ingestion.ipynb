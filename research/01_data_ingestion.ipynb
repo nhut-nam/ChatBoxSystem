{
 "cells": [
  {
   "cell_type": "code",
   "execution_count": 1,
   "id": "82acd340",
   "metadata": {},
   "outputs": [],
   "source": [
    "import os"
   ]
  },
  {
   "cell_type": "code",
   "execution_count": 2,
   "id": "f42dd9da",
   "metadata": {},
   "outputs": [],
   "source": [
    "os.chdir('../')\n"
   ]
  },
  {
   "cell_type": "code",
   "execution_count": 3,
   "id": "8b51eccd",
   "metadata": {},
   "outputs": [
    {
     "data": {
      "text/plain": [
       "'f:\\\\ProjectAI\\\\ChatSystem'"
      ]
     },
     "execution_count": 3,
     "metadata": {},
     "output_type": "execute_result"
    }
   ],
   "source": [
    "%pwd"
   ]
  },
  {
   "cell_type": "code",
   "execution_count": 4,
   "id": "285fa9e1",
   "metadata": {},
   "outputs": [
    {
     "data": {
      "text/plain": [
       "True"
      ]
     },
     "execution_count": 4,
     "metadata": {},
     "output_type": "execute_result"
    }
   ],
   "source": [
    "from dotenv import load_dotenv\n",
    "load_dotenv()"
   ]
  },
  {
   "cell_type": "code",
   "execution_count": 5,
   "id": "6487f45c",
   "metadata": {},
   "outputs": [],
   "source": [
    "api_key = os.getenv(\"GEMINI_API_KEY\")"
   ]
  },
  {
   "cell_type": "code",
   "execution_count": 6,
   "id": "04302653",
   "metadata": {},
   "outputs": [],
   "source": [
    "from dataclasses import dataclass\n",
    "from pathlib import Path\n",
    "\n",
    "@dataclass\n",
    "class DataIngestionConfig:\n",
    "    root_dir: Path\n",
    "    source_URL: str \n",
    "    local_data_file: Path\n",
    "    augmentation: bool"
   ]
  },
  {
   "cell_type": "code",
   "execution_count": 7,
   "id": "1e9cdbde",
   "metadata": {},
   "outputs": [],
   "source": [
    "from ChatBoxSystem.constants import *\n",
    "from ChatBoxSystem.utils.helper import read_yaml, create_directories"
   ]
  },
  {
   "cell_type": "code",
   "execution_count": 8,
   "id": "b43e37b0",
   "metadata": {},
   "outputs": [],
   "source": [
    "class ConfigurationManager:\n",
    "    def __init__(\n",
    "        self,\n",
    "        config_filepath=CONFIG_FILE_PATH,\n",
    "        params_filepath=PARAMS_FILE_PATH,\n",
    "    ):\n",
    "        self.config = read_yaml(config_filepath)\n",
    "        self.params = read_yaml(params_filepath)\n",
    "        create_directories([self.config.artifacts_root])\n",
    "\n",
    "    def get_data_ingestion_config(self) -> DataIngestionConfig:\n",
    "        config = self.config.data_ingestion\n",
    "\n",
    "        create_directories([config.root_dir])\n",
    "        data_ingestion_config = DataIngestionConfig(\n",
    "            root_dir=config.root_dir,\n",
    "            source_URL=config.source_URL,\n",
    "            local_data_file=config.local_data_file,\n",
    "            augmentation=self.params.data_ingestion.augmentation\n",
    "        )\n",
    "\n",
    "        return data_ingestion_config"
   ]
  },
  {
   "cell_type": "code",
   "execution_count": 9,
   "id": "45787a8f",
   "metadata": {},
   "outputs": [],
   "source": [
    "import os\n",
    "import gdown\n",
    "from ChatBoxSystem import logger\n",
    "import pandas as pd\n",
    "from google import genai\n",
    "from google.genai import types"
   ]
  },
  {
   "cell_type": "code",
   "execution_count": null,
   "id": "2bafe3bd",
   "metadata": {},
   "outputs": [],
   "source": [
    "class DataIngestion:\n",
    "    def __init__(self, config: DataIngestionConfig):\n",
    "        self.config = config\n",
    "\n",
    "    def download_file(self):\n",
    "        try:\n",
    "            dataset_url = self.config.source_URL\n",
    "            zip_download_dir = self.config.local_data_file\n",
    "            os.makedirs(\"artifacts/data_ingestion\", exist_ok=True)\n",
    "\n",
    "            file_id = dataset_url.split(\"/\")[-2]\n",
    "            prefix = \"https://drive.google.com/uc?/export=download&id=\"\n",
    "            gdown.download(prefix + file_id, zip_download_dir)\n",
    "\n",
    "            logger.info(f\"Downloaded file from :[{dataset_url}] and saved at :[{zip_download_dir}]\")\n",
    "        except Exception as e:\n",
    "            raise e\n",
    "\n",
    "\n",
    "    def data_augmentation(self):\n",
    "        if self.config.augmentation:\n",
    "            df = pd.read_csv(self.config.local_data_file)\n",
    "            augmented_records = []\n",
    "            for _, row in df.iterrows():\n",
    "                paraphrases = self.paraphrase_text(row['Answer'])\n",
    "                for p in paraphrases:  # nếu paraphrases là list\n",
    "                    augmented_records.append({\n",
    "                        \"Question\": row['Question'],\n",
    "                        \"Answer\": p\n",
    "                    })\n",
    "            df_augmented = pd.DataFrame(augmented_records)\n",
    "            df_augmented.to_csv(self.config.local_data_file, index=False)\n",
    "            logger.info(f\"Data augmentation completed and saved to {self.config.local_data_file}\")\n",
    "        else:\n",
    "            logger.info(\"Data augmentation is disabled.\")\n",
    "\n",
    "\n",
    "    def paraphrase_text(self, text: str) -> list:\n",
    "        prompt = f\"Paraphrase the following text into 15 different ways:\\n{text}\"\n",
    "        client = genai.Client(api_key=api_key)\n",
    "\n",
    "        response = client.models.generate_content(\n",
    "            model=\"gemini-2.5-flash\",  # hoặc gemini-2 nếu bạn có quyền\n",
    "            contents=prompt\n",
    "        )\n",
    "\n",
    "        # response.output_text chứa kết quả text\n",
    "        paraphrases = [line.strip() for line in response.text.split(\"\\n\") if line.strip()]\n",
    "        return paraphrases"
   ]
  },
  {
   "cell_type": "code",
   "execution_count": null,
   "id": "ac8a0e92",
   "metadata": {},
   "outputs": [
    {
     "name": "stdout",
     "output_type": "stream",
     "text": [
      "[2025-10-01 21:14:54,183: INFO: helper]: YAML file config\\config.yaml loaded successfully.\n",
      "[2025-10-01 21:14:54,185: INFO: helper]: YAML file params.yaml loaded successfully.\n",
      "[2025-10-01 21:14:54,187: INFO: helper]: Directory created at: artifacts\n",
      "[2025-10-01 21:14:54,188: INFO: helper]: Directory created at: artifacts/data_ingestion\n"
     ]
    },
    {
     "name": "stderr",
     "output_type": "stream",
     "text": [
      "Downloading...\n",
      "From: https://drive.google.com/uc?/export=download&id=1AixdvjgwB0np9dIrxVJrmlzWI6AaDhwq\n",
      "To: f:\\ProjectAI\\ChatSystem\\artifacts\\data_ingestion\\data.csv\n",
      "100%|██████████| 2.94k/2.94k [00:00<?, ?B/s]"
     ]
    },
    {
     "name": "stdout",
     "output_type": "stream",
     "text": [
      "[2025-10-01 21:14:55,946: INFO: 1440940172]: Downloaded file from :[https://drive.google.com/file/d/1AixdvjgwB0np9dIrxVJrmlzWI6AaDhwq/view?usp=sharing] and saved at :[artifacts/data_ingestion/data.csv]\n",
      "[2025-10-01 21:14:56,013: INFO: models]: AFC is enabled with max remote calls: 10.\n"
     ]
    },
    {
     "name": "stderr",
     "output_type": "stream",
     "text": [
      "\n"
     ]
    }
   ],
   "source": [
    "try:\n",
    "    config = ConfigurationManager()\n",
    "    data_ingestion_config = config.get_data_ingestion_config()\n",
    "\n",
    "    data_ingestion = DataIngestion(config=data_ingestion_config)\n",
    "    data_ingestion.download_file()\n",
    "    data_ingestion.data_augmentation()\n",
    "    logger.info(\"Data ingestion completed successfully.\")\n",
    "except Exception as e:\n",
    "    logger.exception(e)\n",
    "    raise e"
   ]
  },
  {
   "cell_type": "code",
   "execution_count": null,
   "id": "531f5bd2",
   "metadata": {},
   "outputs": [],
   "source": []
  }
 ],
 "metadata": {
  "kernelspec": {
   "display_name": "ChatBoxAI",
   "language": "python",
   "name": "python3"
  },
  "language_info": {
   "codemirror_mode": {
    "name": "ipython",
    "version": 3
   },
   "file_extension": ".py",
   "mimetype": "text/x-python",
   "name": "python",
   "nbconvert_exporter": "python",
   "pygments_lexer": "ipython3",
   "version": "3.10.18"
  }
 },
 "nbformat": 4,
 "nbformat_minor": 5
}
