{
 "cells": [
  {
   "cell_type": "code",
   "execution_count": 2,
   "id": "38f09f08",
   "metadata": {},
   "outputs": [],
   "source": [
    "import os"
   ]
  },
  {
   "cell_type": "code",
   "execution_count": 3,
   "id": "567d024c",
   "metadata": {},
   "outputs": [],
   "source": [
    "os.chdir('../')\n"
   ]
  },
  {
   "cell_type": "code",
   "execution_count": 4,
   "id": "6c0e5599",
   "metadata": {},
   "outputs": [
    {
     "data": {
      "text/plain": [
       "'f:\\\\ProjectAI\\\\ChatSystem'"
      ]
     },
     "execution_count": 4,
     "metadata": {},
     "output_type": "execute_result"
    }
   ],
   "source": [
    "%pwd"
   ]
  },
  {
   "cell_type": "code",
   "execution_count": 11,
   "id": "384f1cab",
   "metadata": {},
   "outputs": [],
   "source": [
    "from ChatBoxSystem import logger\n",
    "import pandas as pd\n",
    "from google import genai\n",
    "from google.genai import types\n",
    "from ChatBoxSystem.constants import *\n",
    "import textwrap"
   ]
  },
  {
   "cell_type": "code",
   "execution_count": 16,
   "id": "d07d5864",
   "metadata": {},
   "outputs": [],
   "source": [
    "class Generation:\n",
    "    def __init__(self, retrieval_results, distances):\n",
    "        self.client = genai.Client(api_key=API_KEY)\n",
    "        self.retrieval_results = retrieval_results\n",
    "        self.distances = distances\n",
    "    \n",
    "    def build_prompt(self, query: str, contexts: list) -> str:\n",
    "        context_text = \"\\n\".join([f\"- {c}\" for c in contexts])\n",
    "        prompt = f\"\"\"\n",
    "        You are a helpful assistant.\n",
    "        Answer the question based on the provided context. If the answer is not contained within the context, respond with \"I don't know\". \n",
    "        Use the following context to answer the question.\n",
    "\n",
    "        Context:\n",
    "        {context_text}\n",
    "\n",
    "        Question: {query}\n",
    "\n",
    "        Answer:\n",
    "        \"\"\"\n",
    "        return textwrap.dedent(prompt)  # loại bỏ khoảng trắng thừa\n",
    "\n",
    "    def generate_answer(self, query: str, contexts: list) -> str:\n",
    "        prompt = self.build_prompt(query, contexts)\n",
    "\n",
    "        contents = [\n",
    "            types.Content(role=\"user\", parts=[types.Part.from_text(text=prompt)])\n",
    "        ]\n",
    "\n",
    "        response = self.client.models.generate_content(\n",
    "            model=\"gemini-2.5-flash\",\n",
    "            contents=contents\n",
    "        )\n",
    "\n",
    "        return response.text.strip()"
   ]
  },
  {
   "cell_type": "code",
   "execution_count": 18,
   "id": "7f90eab6",
   "metadata": {},
   "outputs": [
    {
     "name": "stdout",
     "output_type": "stream",
     "text": [
      "[2025-10-01 23:16:09,025: INFO: models]: AFC is enabled with max remote calls: 10.\n",
      "[2025-10-01 23:16:21,240: INFO: _client]: HTTP Request: POST https://generativelanguage.googleapis.com/v1beta/models/gemini-2.5-flash:generateContent \"HTTP/1.1 200 OK\"\n",
      "Answer: I don't know\n"
     ]
    }
   ],
   "source": [
    "retrieval_results = [\"My country of origin is Vietnam.\", \"I reside in Ho Chi Minh City.\"]\n",
    "distances = [1.07, 1.11]\n",
    "\n",
    "gen = Generation(retrieval_results, distances)\n",
    "answer = gen.generate_answer(\"Which country do you live in?\", retrieval_results)\n",
    "print(\"Answer:\", answer)"
   ]
  },
  {
   "cell_type": "code",
   "execution_count": null,
   "id": "ac55e625",
   "metadata": {},
   "outputs": [],
   "source": []
  }
 ],
 "metadata": {
  "kernelspec": {
   "display_name": "ChatBoxAI",
   "language": "python",
   "name": "python3"
  },
  "language_info": {
   "codemirror_mode": {
    "name": "ipython",
    "version": 3
   },
   "file_extension": ".py",
   "mimetype": "text/x-python",
   "name": "python",
   "nbconvert_exporter": "python",
   "pygments_lexer": "ipython3",
   "version": "3.10.18"
  }
 },
 "nbformat": 4,
 "nbformat_minor": 5
}
