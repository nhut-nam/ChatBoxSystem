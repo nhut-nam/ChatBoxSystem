{
 "cells": [
  {
   "cell_type": "code",
   "execution_count": 1,
   "id": "df403fa0",
   "metadata": {},
   "outputs": [],
   "source": [
    "import os"
   ]
  },
  {
   "cell_type": "code",
   "execution_count": 2,
   "id": "926a29b9",
   "metadata": {},
   "outputs": [
    {
     "data": {
      "text/plain": [
       "'f:\\\\ProjectAI\\\\ChatSystem'"
      ]
     },
     "execution_count": 2,
     "metadata": {},
     "output_type": "execute_result"
    }
   ],
   "source": [
    "os.chdir(\"../\")\n",
    "%pwd"
   ]
  },
  {
   "cell_type": "code",
   "execution_count": null,
   "id": "f796144e",
   "metadata": {},
   "outputs": [],
   "source": [
    "from dataclasses import dataclass\n",
    "from pathlib import Path\n",
    "\n",
    "@dataclass\n",
    "class EmbeddingsConfig:\n",
    "    root_dir: Path\n",
    "    embeddings_file: Path\n",
    "    model_name: str\n",
    "    local_data_file: Path\n"
   ]
  },
  {
   "cell_type": "code",
   "execution_count": 4,
   "id": "0349dcd4",
   "metadata": {},
   "outputs": [],
   "source": [
    "from ChatBoxSystem.constants import *\n",
    "from ChatBoxSystem.utils.helper import read_yaml, create_directories"
   ]
  },
  {
   "cell_type": "code",
   "execution_count": null,
   "id": "c35d383e",
   "metadata": {},
   "outputs": [],
   "source": [
    "class ConfigurationManager:\n",
    "    def __init__(\n",
    "        self,\n",
    "        config_filepath=CONFIG_FILE_PATH,\n",
    "        params_filepath=PARAMS_FILE_PATH,\n",
    "    ):\n",
    "        self.config = read_yaml(config_filepath)\n",
    "        self.params = read_yaml(params_filepath)\n",
    "        create_directories([self.config.embeddings.root_dir])\n",
    "\n",
    "    def get_embeddings_config(self) -> EmbeddingsConfig:\n",
    "        create_directories([self.config.embeddings.root_dir])\n",
    "        embeddings_config = EmbeddingsConfig(\n",
    "            root_dir=Path(self.config.embeddings.root_dir),\n",
    "            embeddings_file=Path(self.config.embeddings.embeddings_file),\n",
    "            model_name=self.config.embeddings.model_name,\n",
    "            local_data_file=Path(self.config.embeddings.local_data_file),\n",
    "        )\n",
    "        return embeddings_config"
   ]
  },
  {
   "cell_type": "code",
   "execution_count": 18,
   "id": "9e444394",
   "metadata": {},
   "outputs": [],
   "source": [
    "import pandas as pd\n",
    "from sentence_transformers import SentenceTransformer\n",
    "import faiss\n",
    "import numpy as np\n",
    "from ChatBoxSystem import logger"
   ]
  },
  {
   "cell_type": "code",
   "execution_count": null,
   "id": "76b60261",
   "metadata": {},
   "outputs": [],
   "source": [
    "class Embeddings:\n",
    "    def __init__(self, config: EmbeddingsConfig):\n",
    "        self.config = config\n",
    "        self.model = SentenceTransformer(self.config.model_name)\n",
    "\n",
    "    def generate_embeddings(self):\n",
    "        logger.info(\"Loading data...\")\n",
    "        df = pd.read_csv(self.config.local_data_file)\n",
    "        texts = df['Answer'].tolist()\n",
    "\n",
    "        logger.info(\"Generating embeddings...\")\n",
    "        embeddings = self.model.encode(texts, convert_to_tensor=True, show_progress_bar=True)\n",
    "\n",
    "        self.save_embeddings(embeddings, texts)\n",
    "\n",
    "    def save_embeddings(self, embeddings, texts):\n",
    "        logger.info(\"Saving embeddings...\")\n",
    "        dim = embeddings[0].shape[0]\n",
    "        index = faiss.IndexFlatL2(dim)\n",
    "\n",
    "        index.add(np.array(embeddings))\n",
    "        logger.info(f\"Total embeddings indexed: {index.ntotal}\")\n",
    "\n",
    "        faiss.write_index(index, str(self.config.embeddings_file))\n",
    "        np.save(self.config.embeddings_file.with_suffix('.npy'), np.array(texts))\n",
    "        logger.info(f\"Embeddings saved to {self.config.embeddings_file}\")"
   ]
  },
  {
   "cell_type": "code",
   "execution_count": 20,
   "id": "8f705ef9",
   "metadata": {},
   "outputs": [
    {
     "name": "stdout",
     "output_type": "stream",
     "text": [
      "[2025-10-01 19:04:15,647: INFO: helper]: YAML file config\\config.yaml loaded successfully.\n",
      "[2025-10-01 19:04:15,648: INFO: helper]: YAML file params.yaml loaded successfully.\n",
      "[2025-10-01 19:04:15,649: INFO: helper]: Directory created at: artifacts/embeddings\n",
      "[2025-10-01 19:04:15,650: INFO: helper]: Directory created at: artifacts/embeddings\n",
      "[2025-10-01 19:04:15,652: INFO: SentenceTransformer]: Use pytorch device_name: cpu\n",
      "[2025-10-01 19:04:15,654: INFO: SentenceTransformer]: Load pretrained SentenceTransformer: all-MiniLM-L6-v2\n"
     ]
    },
    {
     "name": "stderr",
     "output_type": "stream",
     "text": [
      "c:\\Users\\namnh\\miniconda3\\envs\\ChatBoxAI\\lib\\site-packages\\huggingface_hub\\file_download.py:143: UserWarning: `huggingface_hub` cache-system uses symlinks by default to efficiently store duplicated files but your machine does not support them in C:\\Users\\namnh\\.cache\\huggingface\\hub\\models--sentence-transformers--all-MiniLM-L6-v2. Caching files will still work but in a degraded version that might require more space on your disk. This warning can be disabled by setting the `HF_HUB_DISABLE_SYMLINKS_WARNING` environment variable. For more details, see https://huggingface.co/docs/huggingface_hub/how-to-cache#limitations.\n",
      "To support symlinks on Windows, you either need to activate Developer Mode or to run Python as an administrator. In order to activate developer mode, see this article: https://docs.microsoft.com/en-us/windows/apps/get-started/enable-your-device-for-development\n",
      "  warnings.warn(message)\n",
      "Xet Storage is enabled for this repo, but the 'hf_xet' package is not installed. Falling back to regular HTTP download. For better performance, install the package with: `pip install huggingface_hub[hf_xet]` or `pip install hf_xet`\n"
     ]
    },
    {
     "name": "stdout",
     "output_type": "stream",
     "text": [
      "[2025-10-01 19:04:20,024: WARNING: file_download]: Xet Storage is enabled for this repo, but the 'hf_xet' package is not installed. Falling back to regular HTTP download. For better performance, install the package with: `pip install huggingface_hub[hf_xet]` or `pip install hf_xet`\n",
      "[2025-10-01 19:04:26,753: INFO: 2983522759]: Loading data...\n",
      "[2025-10-01 19:04:26,753: INFO: 2983522759]: Generating embeddings...\n"
     ]
    },
    {
     "name": "stderr",
     "output_type": "stream",
     "text": [
      "Batches: 100%|██████████| 10/10 [00:00<00:00, 14.48it/s]"
     ]
    },
    {
     "name": "stdout",
     "output_type": "stream",
     "text": [
      "[2025-10-01 19:04:27,467: INFO: 2983522759]: Saving embeddings...\n",
      "[2025-10-01 19:04:27,467: INFO: 2983522759]: Total embeddings indexed: 300\n",
      "[2025-10-01 19:04:27,467: INFO: 2983522759]: Embeddings saved to artifacts\\embeddings\\embeddings.pkl\n",
      "[2025-10-01 19:04:27,474: INFO: 1568427099]: Embeddings generation completed successfully.\n"
     ]
    },
    {
     "name": "stderr",
     "output_type": "stream",
     "text": [
      "\n",
      "C:\\Users\\namnh\\AppData\\Local\\Temp\\ipykernel_26820\\2983522759.py:21: DeprecationWarning: __array__ implementation doesn't accept a copy keyword, so passing copy=False failed. __array__ must implement 'dtype' and 'copy' keyword arguments. To learn more, see the migration guide https://numpy.org/devdocs/numpy_2_0_migration_guide.html#adapting-to-changes-in-the-copy-keyword\n",
      "  index.add(np.array(embeddings))\n"
     ]
    }
   ],
   "source": [
    "try:\n",
    "    config = ConfigurationManager()\n",
    "    data_ingestion_config = config.get_data_ingestion_config()\n",
    "\n",
    "    embeddings = Embeddings(config=data_ingestion_config)\n",
    "    embeddings.generate_embeddings()\n",
    "    logger.info(\"Embeddings generation completed successfully.\")\n",
    "except Exception as e:\n",
    "    logger.exception(f\"Error occurred: {e}\")\n",
    "    raise"
   ]
  },
  {
   "cell_type": "code",
   "execution_count": null,
   "id": "44c7172c",
   "metadata": {},
   "outputs": [],
   "source": []
  }
 ],
 "metadata": {
  "kernelspec": {
   "display_name": "ChatBoxAI",
   "language": "python",
   "name": "python3"
  },
  "language_info": {
   "codemirror_mode": {
    "name": "ipython",
    "version": 3
   },
   "file_extension": ".py",
   "mimetype": "text/x-python",
   "name": "python",
   "nbconvert_exporter": "python",
   "pygments_lexer": "ipython3",
   "version": "3.10.18"
  }
 },
 "nbformat": 4,
 "nbformat_minor": 5
}
