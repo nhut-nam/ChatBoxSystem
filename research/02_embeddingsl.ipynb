{
 "cells": [
  {
   "cell_type": "code",
   "execution_count": 1,
   "id": "df403fa0",
   "metadata": {},
   "outputs": [],
   "source": [
    "import os"
   ]
  },
  {
   "cell_type": "code",
   "execution_count": 2,
   "id": "926a29b9",
   "metadata": {},
   "outputs": [
    {
     "data": {
      "text/plain": [
       "'f:\\\\ProjectAI\\\\ChatSystem'"
      ]
     },
     "execution_count": 2,
     "metadata": {},
     "output_type": "execute_result"
    }
   ],
   "source": [
    "os.chdir(\"../\")\n",
    "%pwd"
   ]
  },
  {
   "cell_type": "code",
   "execution_count": 3,
   "id": "92f872c8",
   "metadata": {},
   "outputs": [],
   "source": [
    "# from dotenv import load_dotenv\n",
    "# load_dotenv()"
   ]
  },
  {
   "cell_type": "code",
   "execution_count": 4,
   "id": "08688f7a",
   "metadata": {},
   "outputs": [],
   "source": [
    "# os.environ[\"OPENAI_API_KEY\"] = os.getenv(\"OPENAI_API_KEY\")\n",
    "# os.environ[\"GEMINI_API_KEY\"] = os.getenv(\"GEMINI_API_KEY\")"
   ]
  },
  {
   "cell_type": "code",
   "execution_count": 5,
   "id": "f796144e",
   "metadata": {},
   "outputs": [],
   "source": [
    "from dataclasses import dataclass\n",
    "from pathlib import Path\n",
    "\n",
    "@dataclass\n",
    "class EmbeddingsConfig:\n",
    "    root_dir: Path\n",
    "    embeddings_file: Path\n",
    "    model_name: str\n",
    "    folder_data: str\n",
    "    local_data_file: Path\n"
   ]
  },
  {
   "cell_type": "code",
   "execution_count": 6,
   "id": "0349dcd4",
   "metadata": {},
   "outputs": [],
   "source": [
    "from ChatBoxSystem.constants import *\n",
    "from ChatBoxSystem.utils.helper import read_yaml, create_directories"
   ]
  },
  {
   "cell_type": "code",
   "execution_count": 7,
   "id": "c35d383e",
   "metadata": {},
   "outputs": [],
   "source": [
    "class ConfigurationManager:\n",
    "    def __init__(\n",
    "        self,\n",
    "        config_filepath=CONFIG_FILE_PATH,\n",
    "        params_filepath=PARAMS_FILE_PATH,\n",
    "    ):\n",
    "        self.config = read_yaml(config_filepath)\n",
    "        self.params = read_yaml(params_filepath)\n",
    "        create_directories([self.config.embeddings.root_dir])\n",
    "\n",
    "    def get_embeddings_config(self) -> EmbeddingsConfig:\n",
    "        create_directories([self.config.embeddings.root_dir])\n",
    "        embeddings_config = EmbeddingsConfig(\n",
    "            root_dir=Path(self.config.embeddings.root_dir),\n",
    "            embeddings_file=Path(self.config.embeddings.embeddings_file),\n",
    "            model_name=self.config.embeddings.model_name,\n",
    "            folder_data=self.config.data_ingestion.root_dir,\n",
    "            local_data_file=Path(self.config.embeddings.local_data_file),\n",
    "        )\n",
    "        return embeddings_config"
   ]
  },
  {
   "cell_type": "code",
   "execution_count": 8,
   "id": "9e444394",
   "metadata": {},
   "outputs": [
    {
     "name": "stderr",
     "output_type": "stream",
     "text": [
      "c:\\Users\\namnh\\miniconda3\\envs\\ChatBoxAI\\lib\\site-packages\\tqdm\\auto.py:21: TqdmWarning: IProgress not found. Please update jupyter and ipywidgets. See https://ipywidgets.readthedocs.io/en/stable/user_install.html\n",
      "  from .autonotebook import tqdm as notebook_tqdm\n"
     ]
    },
    {
     "name": "stdout",
     "output_type": "stream",
     "text": [
      "[2025-10-02 10:44:27,260: INFO: loader]: Loading faiss with AVX512 support.\n",
      "[2025-10-02 10:44:27,267: INFO: loader]: Could not load library with AVX512 support due to:\n",
      "ModuleNotFoundError(\"No module named 'faiss.swigfaiss_avx512'\")\n",
      "[2025-10-02 10:44:27,267: INFO: loader]: Loading faiss with AVX2 support.\n",
      "[2025-10-02 10:44:27,396: INFO: loader]: Successfully loaded faiss with AVX2 support.\n"
     ]
    }
   ],
   "source": [
    "import pandas as pd\n",
    "from sentence_transformers import SentenceTransformer\n",
    "import faiss\n",
    "import numpy as np\n",
    "from ChatBoxSystem import logger"
   ]
  },
  {
   "cell_type": "code",
   "execution_count": 9,
   "id": "76b60261",
   "metadata": {},
   "outputs": [],
   "source": [
    "class Embeddings:\n",
    "    def __init__(self, config: EmbeddingsConfig):\n",
    "        self.config = config\n",
    "        self.model = SentenceTransformer(self.config.model_name)\n",
    "\n",
    "    def generate_embeddings(self):\n",
    "        logger.info(\"Loading data...\")\n",
    "        df = pd.read_csv(self.config.local_data_file)\n",
    "        texts = df['Answer'].tolist()\n",
    "\n",
    "        logger.info(\"Generating embeddings...\")\n",
    "        embeddings = self.model.encode(texts, convert_to_tensor=True, show_progress_bar=True)\n",
    "\n",
    "        self.save_embeddings(embeddings, texts)\n",
    "\n",
    "    def save_embeddings(self, embeddings, texts):\n",
    "        logger.info(\"Saving embeddings...\")\n",
    "        dim = embeddings[0].shape[0]\n",
    "        index = faiss.IndexFlatL2(dim)\n",
    "\n",
    "        index.add(np.array(embeddings))\n",
    "        logger.info(f\"Total embeddings indexed: {index.ntotal}\")\n",
    "\n",
    "        faiss.write_index(index, str(self.config.embeddings_file))\n",
    "        np.save(self.config.embeddings_file.with_suffix('.npy'), np.array(texts))\n",
    "        logger.info(f\"Embeddings saved to {self.config.embeddings_file}\")"
   ]
  },
  {
   "cell_type": "code",
   "execution_count": 10,
   "id": "bb2e27a7",
   "metadata": {},
   "outputs": [],
   "source": [
    "from llama_index.core import VectorStoreIndex, SimpleDirectoryReader, Document\n",
    "from llama_index.embeddings.huggingface import HuggingFaceEmbedding\n",
    "from llama_index.core.storage.storage_context import StorageContext"
   ]
  },
  {
   "cell_type": "code",
   "execution_count": 11,
   "id": "eaaf1ec6",
   "metadata": {},
   "outputs": [],
   "source": [
    "class Embeddings:\n",
    "    def __init__(self, config: EmbeddingsConfig):\n",
    "        self.config = config\n",
    "        self.model = HuggingFaceEmbedding(model_name='BAAI/bge-small-en-v1.5')\n",
    "\n",
    "    def generate_embeddings(self):\n",
    "        logger.info(\"Loading data...\")\n",
    "        df = pd.read_csv(self.config.local_data_file)\n",
    "\n",
    "        # Tạo danh sách Document từ từng row\n",
    "        documents = []\n",
    "        for _, row in df.iterrows():\n",
    "            q, a = row[\"Question\"], row[\"Answer\"]\n",
    "            text = f\"Question: {q}\\nAnswer: {a}\"\n",
    "            documents.append(Document(text=text))\n",
    "\n",
    "        logger.info(\"Generating embeddings via VectorStoreIndex...\")\n",
    "        index = VectorStoreIndex.from_documents(documents, embed_model=self.model)\n",
    "\n",
    "        self.save_embeddings(index)\n",
    "\n",
    "    def save_embeddings(self, index: VectorStoreIndex):\n",
    "        logger.info(\"Saving VectorStoreIndex...\")\n",
    "        \n",
    "        storage_context = index.storage_context\n",
    "        storage_context.persist()\n",
    "        logger.info(f\"Embeddings saved to {self.config.embeddings_file}\")"
   ]
  },
  {
   "cell_type": "code",
   "execution_count": 12,
   "id": "8f705ef9",
   "metadata": {},
   "outputs": [],
   "source": [
    "# try:\n",
    "#     config = ConfigurationManager()\n",
    "#     embeddings_config = config.get_embeddings_config()\n",
    "\n",
    "#     embeddings = Embeddings(config=embeddings_config)\n",
    "#     embeddings.generate_embeddings()\n",
    "#     logger.info(\"Embeddings generation completed successfully.\")\n",
    "# except Exception as e:\n",
    "#     logger.exception(f\"Error occurred: {e}\")\n",
    "#     raise"
   ]
  },
  {
   "cell_type": "code",
   "execution_count": 13,
   "id": "f4b49eb4",
   "metadata": {},
   "outputs": [
    {
     "name": "stdout",
     "output_type": "stream",
     "text": [
      "[2025-10-02 10:44:28,754: INFO: helper]: YAML file config\\config.yaml loaded successfully.\n",
      "[2025-10-02 10:44:28,757: INFO: helper]: YAML file params.yaml loaded successfully.\n",
      "[2025-10-02 10:44:28,758: INFO: helper]: Directory created at: artifacts/embeddings\n",
      "[2025-10-02 10:44:28,759: INFO: helper]: Directory created at: artifacts/embeddings\n",
      "[2025-10-02 10:44:28,763: INFO: SentenceTransformer]: Load pretrained SentenceTransformer: BAAI/bge-small-en-v1.5\n",
      "[2025-10-02 10:44:32,997: INFO: SentenceTransformer]: 1 prompt is loaded, with the key: query\n",
      "[2025-10-02 10:44:32,997: INFO: 2974174681]: Loading data...\n",
      "[2025-10-02 10:44:33,031: INFO: 2974174681]: Generating embeddings via VectorStoreIndex...\n",
      "[2025-10-02 10:44:37,083: INFO: 2974174681]: Saving VectorStoreIndex...\n",
      "[2025-10-02 10:44:38,116: INFO: 2974174681]: Embeddings saved to artifacts\\embeddings\\embeddings.index\n",
      "[2025-10-02 10:44:38,117: INFO: 3935594119]: Embeddings generation completed successfully.\n"
     ]
    }
   ],
   "source": [
    "try:\n",
    "    config = ConfigurationManager()\n",
    "    embeddings_config = config.get_embeddings_config()\n",
    "\n",
    "    embeddings = Embeddings(config=embeddings_config)\n",
    "    embeddings.generate_embeddings()\n",
    "    logger.info(\"Embeddings generation completed successfully.\")\n",
    "except Exception as e:\n",
    "    logger.exception(f\"Error occurred: {e}\")\n",
    "    raise  "
   ]
  },
  {
   "cell_type": "code",
   "execution_count": null,
   "id": "44c7172c",
   "metadata": {},
   "outputs": [],
   "source": []
  }
 ],
 "metadata": {
  "kernelspec": {
   "display_name": "ChatBoxAI",
   "language": "python",
   "name": "python3"
  },
  "language_info": {
   "codemirror_mode": {
    "name": "ipython",
    "version": 3
   },
   "file_extension": ".py",
   "mimetype": "text/x-python",
   "name": "python",
   "nbconvert_exporter": "python",
   "pygments_lexer": "ipython3",
   "version": "3.10.18"
  }
 },
 "nbformat": 4,
 "nbformat_minor": 5
}
